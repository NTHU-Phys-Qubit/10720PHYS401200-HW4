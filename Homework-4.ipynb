{
 "cells": [
  {
   "cell_type": "markdown",
   "metadata": {},
   "source": [
    "# 10720PHYS401200 Homework-4"
   ]
  },
  {
   "cell_type": "markdown",
   "metadata": {},
   "source": [
    "## Problem 1: Singular values of Bell states and random states.\n",
    "\n",
    "Consider a two spin-1/2 system with basis $|11\\rangle,|10\\rangle,|01\\rangle,|00\\rangle$. An arbitrary state can be expressed as $|\\psi\\rangle=\\sum_{i,j}\\psi_{i,j}|ij\\rangle$. The Bell states are\n",
    "$$\n",
    "\\frac{1}{\\sqrt{2}}|00\\rangle+|11\\rangle,\n",
    "\\frac{1}{\\sqrt{2}}|00\\rangle-|11\\rangle,\n",
    "\\frac{1}{\\sqrt{2}}|01\\rangle+|10\\rangle,\n",
    "\\frac{1}{\\sqrt{2}}|01\\rangle-|10\\rangle.\n",
    "$$\n",
    "\n",
    "* Now treat $\\psi_{i,j}$ as matrix elements and perform SVD to get singular values $\\lambda_1, \\lambda_2$.\n",
    "* The entanglement entropy $S$ is defined as $S= -\\sum_i \\lambda_i \\ln \\lambda_i$. Find the entanglement entropy of the Bell states.\n",
    "* Perform the same analysis on random state. What is the average entanglement entropy?"
   ]
  },
  {
   "cell_type": "code",
   "execution_count": null,
   "metadata": {},
   "outputs": [],
   "source": []
  },
  {
   "cell_type": "markdown",
   "metadata": {},
   "source": [
    "## Problem 2: iTEBD for 1D quantum transverse field Ising model\n",
    "\n",
    "Implement iTEBD algorithm for the 1D (ferromagnetic) Transfer Field Ising Model (TFIM) with following Hamiltonian:\n",
    "$$\n",
    "  H \n",
    "  = \\sum_i -J \\sigma^z_i \\sigma^z_{i+1} - h \\sigma^x_i\n",
    "  = \\sum_i -J \\sigma^z_i \\sigma^z_{i+1} - \\frac{h}{2} \\left( \\sigma^x_i I_{i+1} + I_i \\sigma^x_{i+1}\\right)\n",
    "  = \\sum_i h_{i,i+1}.\n",
    "$$\n",
    "$$\n",
    "  h_{i,i+1} = -J \\sigma^z_i \\sigma^z_{i+1} - \\frac{h}{2} \\left( \\sigma^x_i I_{i+1} + I_i \\sigma^x_{i+1}\\right).\n",
    "$$\n",
    "\n",
    "You can set $J=1$ as the energy unit."
   ]
  },
  {
   "cell_type": "markdown",
   "metadata": {},
   "source": [
    "Show that\n",
    "* For $J=1$, $h=0$ one has $\\langle \\sigma^z\\rangle=\\pm 1$ and $\\langle \\sigma^x\\rangle=0$.\n",
    "* FOr $J=1$, $h\\gg 1$ one has $\\langle \\sigma^z\\rangle \\approx 0$ and $\\langle \\sigma^x \\rangle \\approx 1$.\n",
    "\n",
    "Plot\n",
    "* $\\langle E \\rangle$ as a function of $h$,\n",
    "* $\\langle \\sigma^z\\rangle$ as a function of $h$,\n",
    "* $\\langle \\sigma^x\\rangle$ as a function of $h$,\n",
    "for a couple of different bond dimensions $D$. \n",
    "\n",
    "Show that the there is a critical point near $h=1$."
   ]
  },
  {
   "cell_type": "code",
   "execution_count": null,
   "metadata": {},
   "outputs": [],
   "source": []
  }
 ],
 "metadata": {
  "kernelspec": {
   "display_name": "Python 3",
   "language": "python",
   "name": "python3"
  },
  "language_info": {
   "codemirror_mode": {
    "name": "ipython",
    "version": 3
   },
   "file_extension": ".py",
   "mimetype": "text/x-python",
   "name": "python",
   "nbconvert_exporter": "python",
   "pygments_lexer": "ipython3",
   "version": "3.6.8"
  }
 },
 "nbformat": 4,
 "nbformat_minor": 2
}
